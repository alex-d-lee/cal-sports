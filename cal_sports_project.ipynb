{
 "cells": [
  {
   "cell_type": "markdown",
   "id": "440e3314-3e68-47b4-9e6c-e403b9f94a65",
   "metadata": {},
   "source": [
    "# Cal Sports Project - GO BEARS\n",
    "\n",
    "\n",
    "### By Alex Lee"
   ]
  },
  {
   "cell_type": "code",
   "execution_count": null,
   "id": "0fdf5296-697a-4e17-9f3e-5d41ea015011",
   "metadata": {},
   "outputs": [],
   "source": [
    "# import statements\n",
    "import pandas as pd\n",
    "import numpy as np\n",
    "import matplotlib.pyplot as plt\n",
    "import seaborn as sns\n",
    "import sklearn as sk"
   ]
  },
  {
   "cell_type": "code",
   "execution_count": null,
   "id": "d97124df-3fa7-41d7-9f1d-fd1bd83a31bd",
   "metadata": {
    "is_executing": true
   },
   "outputs": [],
   "source": [
    "team = pd.read_csv(\"datasets/team_stats_wilcox.csv\")"
   ]
  },
  {
   "cell_type": "code",
   "execution_count": null,
   "id": "00312b69-3739-4b2a-8a67-c6d9c500c398",
   "metadata": {},
   "outputs": [],
   "source": []
  }
 ],
 "metadata": {
  "kernelspec": {
   "display_name": "Python 3 (ipykernel)",
   "language": "python",
   "name": "python3"
  },
  "language_info": {
   "codemirror_mode": {
    "name": "ipython",
    "version": 3
   },
   "file_extension": ".py",
   "mimetype": "text/x-python",
   "name": "python",
   "nbconvert_exporter": "python",
   "pygments_lexer": "ipython3",
   "version": "3.11.6"
  }
 },
 "nbformat": 4,
 "nbformat_minor": 5
}
